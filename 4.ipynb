{
  "nbformat": 4,
  "nbformat_minor": 0,
  "metadata": {
    "colab": {
      "name": "4.ipynb",
      "provenance": [],
      "collapsed_sections": [],
      "authorship_tag": "ABX9TyNUxK4dqxj011J75pzVxE89",
      "include_colab_link": true
    },
    "kernelspec": {
      "name": "python3",
      "display_name": "Python 3"
    }
  },
  "cells": [
    {
      "cell_type": "markdown",
      "metadata": {
        "id": "view-in-github",
        "colab_type": "text"
      },
      "source": [
        "<a href=\"https://colab.research.google.com/github/rohitmahala95/html/blob/master/4.ipynb\" target=\"_parent\"><img src=\"https://colab.research.google.com/assets/colab-badge.svg\" alt=\"Open In Colab\"/></a>"
      ]
    },
    {
      "cell_type": "code",
      "metadata": {
        "colab": {
          "base_uri": "https://localhost:8080/"
        },
        "id": "v2huaL-hbwNQ",
        "outputId": "42d822f8-bd7b-430a-ee72-eadd3599053d"
      },
      "source": [
        "# Ask user to input 3 numbers and you have to print average of three numbers\n",
        "# Using string formatting\n",
        "\n",
        "#First Solution\n",
        "\n",
        "n1 = input(\"Enter your Number 1: \")\n",
        "n2 = input(\"Enter your Number 2: \")\n",
        "n3 = input(\"Enter your Number 3: \")\n",
        "print(f\"Average is: {(int(n1) + int(n2) + int(n3)) / 3}\")\n",
        "\n",
        "\n",
        "\n",
        "# Second Solution\n",
        "n1,n2,n3 = input(\"Enter Three numbers comma separated: \").split(\",\")\n",
        "print(f\"Average is: {(int(n1) + int(n2) + int(n3)) / 3}\")\n"
      ],
      "execution_count": 6,
      "outputs": [
        {
          "output_type": "stream",
          "text": [
            "Enter Three numbers comma separated: 10,20,30\n",
            "Average is: 20.0\n"
          ],
          "name": "stdout"
        }
      ]
    },
    {
      "cell_type": "code",
      "metadata": {
        "colab": {
          "base_uri": "https://localhost:8080/"
        },
        "id": "28Iz06eygKZD",
        "outputId": "fc45df53-9679-4b25-f03c-19f3d3eb642f"
      },
      "source": [
        "# String Indexing\n",
        "language = \"python\"\n",
        "\n",
        "#position(index number)\n",
        "#p = 0\n",
        "#y = 1\n",
        "#t = 2\n",
        "#h = 3 \n",
        "#o = 4\n",
        "#n = 5 \n",
        "\n",
        "print(language[2])\n",
        "print(language[4])\n",
        "#print(language[6]) It will give me a error(index out of range)\n",
        "print(language[-1])\n",
        "print(language[-2])\n",
        "\n",
        "\n",
        "#Slicing / Selecting Sub Sequences\n",
        "lang = \"python\"\n",
        "# syntex = [start argument : end argument]\n",
        "print(lang[0:4])\n",
        "print(lang[:])\n",
        "print(lang[:3])\n",
        "print(lang[2:])\n",
        "\n",
        "\n",
        "#Step Argument\n",
        "# syntex = [start argument : end argument - 1 : step]\n",
        "print(\"Rohit\"[0:4:2])\n"
      ],
      "execution_count": 16,
      "outputs": [
        {
          "output_type": "stream",
          "text": [
            "t\n",
            "o\n",
            "n\n",
            "o\n",
            "pyth\n",
            "python\n",
            "pyt\n",
            "thon\n",
            "Rh\n"
          ],
          "name": "stdout"
        }
      ]
    },
    {
      "cell_type": "code",
      "metadata": {
        "colab": {
          "base_uri": "https://localhost:8080/"
        },
        "id": "2R5OvvmxhsLa",
        "outputId": "43be20a8-57b9-469a-90aa-b4483d54ba47"
      },
      "source": [
        "#Exercise:\n",
        "#Ask user name and print back user name in reverse order\n",
        "\n",
        "name = input(\"Enter your name: \")\n",
        "reverse = name[-1::-1]\n",
        "print(f\"your reverse name is: {reverse}\")\n",
        "\n"
      ],
      "execution_count": 18,
      "outputs": [
        {
          "output_type": "stream",
          "text": [
            "Enter your name: Rohit\n",
            "your reverse name is: tihoR\n"
          ],
          "name": "stdout"
        }
      ]
    }
  ]
}