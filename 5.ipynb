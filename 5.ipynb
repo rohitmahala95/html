{
  "nbformat": 4,
  "nbformat_minor": 0,
  "metadata": {
    "colab": {
      "name": "5.ipynb",
      "provenance": [],
      "collapsed_sections": [],
      "authorship_tag": "ABX9TyO/y+zptEyZGvivyPdZZktt",
      "include_colab_link": true
    },
    "kernelspec": {
      "name": "python3",
      "display_name": "Python 3"
    }
  },
  "cells": [
    {
      "cell_type": "markdown",
      "metadata": {
        "id": "view-in-github",
        "colab_type": "text"
      },
      "source": [
        "<a href=\"https://colab.research.google.com/github/rohitmahala95/html/blob/master/5.ipynb\" target=\"_parent\"><img src=\"https://colab.research.google.com/assets/colab-badge.svg\" alt=\"Open In Colab\"/></a>"
      ]
    },
    {
      "cell_type": "code",
      "metadata": {
        "colab": {
          "base_uri": "https://localhost:8080/"
        },
        "id": "C71K3vCXks2c",
        "outputId": "c76b2c99-ff0a-43d7-fc77-a6e0cec6d508"
      },
      "source": [
        "#String Methods\n",
        "name = \"Rohit Mahala\"\n",
        "#len() : count the characters\n",
        "length = len(name)\n",
        "print(length) # also count the space\n",
        "#lower() : all letter in lowercase \n",
        "print(name.lower())\n",
        "#upper() : all letter in uppercase \n",
        "print(name.upper())\n",
        "#title() : only first letter of word will be capital\n",
        "print(name.title())\n",
        "#count() : count the characters in name how many times it comes\n",
        "print(name.count(\"h\"))\n",
        "\n"
      ],
      "execution_count": 8,
      "outputs": [
        {
          "output_type": "stream",
          "text": [
            "12\n",
            "rohit mahala\n",
            "ROHIT MAHALA\n",
            "Rohit Mahala\n",
            "2\n"
          ],
          "name": "stdout"
        }
      ]
    },
    {
      "cell_type": "code",
      "metadata": {
        "colab": {
          "base_uri": "https://localhost:8080/"
        },
        "id": "DfdKJo2GnGw4",
        "outputId": "8a12da9d-040b-49f1-b9ac-a6506398bee3"
      },
      "source": [
        "#Exercise:\n",
        "#Enter 2 inputs from user\n",
        "#1. user name \n",
        "#2. one alphabet\n",
        "\n",
        "#output: 2 input lines\n",
        "#1. Users name length\n",
        "#2. Count the characters that user inputed (Case sensitive count)\n",
        "name, char = input(\"Enter name and character: \").split(\",\")\n",
        "print(f\"Length of the name : {len(name)}\")\n",
        "print(f\"Character Count: {name.count(char)}\")\n",
        "\n"
      ],
      "execution_count": 9,
      "outputs": [
        {
          "output_type": "stream",
          "text": [
            "Enter name and character: Rohit,h\n",
            "Length of the name : 5\n",
            "Character Count: 1\n"
          ],
          "name": "stdout"
        }
      ]
    }
  ]
}