{
  "nbformat": 4,
  "nbformat_minor": 0,
  "metadata": {
    "colab": {
      "name": "2.ipynb",
      "provenance": [],
      "collapsed_sections": [],
      "authorship_tag": "ABX9TyO1yCDdclILnjQQMUKDozTv",
      "include_colab_link": true
    },
    "kernelspec": {
      "name": "python3",
      "display_name": "Python 3"
    }
  },
  "cells": [
    {
      "cell_type": "markdown",
      "metadata": {
        "id": "view-in-github",
        "colab_type": "text"
      },
      "source": [
        "<a href=\"https://colab.research.google.com/github/rohitmahala95/html/blob/master/2.ipynb\" target=\"_parent\"><img src=\"https://colab.research.google.com/assets/colab-badge.svg\" alt=\"Open In Colab\"/></a>"
      ]
    },
    {
      "cell_type": "code",
      "metadata": {
        "colab": {
          "base_uri": "https://localhost:8080/"
        },
        "id": "ciH6lgvrf_kt",
        "outputId": "9ce95270-cf22-448b-bc8f-5543f170a455"
      },
      "source": [
        "print(\"This is \\\\\\\\ double backslash\")\n",
        "print(\"These are /\\\\/\\\\/\\\\/\\\\/\\\\ mountains\")\n",
        "print(\"He is \\t awesome\") # \\t for tab\n",
        "print(\" \\\\\\\" \\\\n \\\\t \\\\\\' \")\n",
        "print(r\"Line A \\\" \\n Line B\") # RAW STRING\n"
      ],
      "execution_count": null,
      "outputs": [
        {
          "output_type": "stream",
          "text": [
            "This is \\\\ double backslash\n",
            "These are /\\/\\/\\/\\/\\ mountains\n",
            "He is \t awesome\n",
            " \\\" \\n \\t \\' \n",
            "Line A \\\" \\n Line B\n"
          ],
          "name": "stdout"
        }
      ]
    },
    {
      "cell_type": "code",
      "metadata": {
        "colab": {
          "base_uri": "https://localhost:8080/"
        },
        "id": "3t_sQ-J5hoY9",
        "outputId": "17a869d0-4afb-4d87-ff5c-20e1579a00e8"
      },
      "source": [
        "# Python as a calculator\n",
        "print(2+3)\n",
        "print(2-3)\n",
        "print(2*3)\n",
        "print(2/3) # float divison\n",
        "print(2//3) # integer division\n",
        "print(7%3) # modulo\n",
        "print(3**2) #exponent"
      ],
      "execution_count": null,
      "outputs": [
        {
          "output_type": "stream",
          "text": [
            "5\n",
            "-1\n",
            "6\n",
            "0.6666666666666666\n",
            "0\n",
            "1\n",
            "9\n"
          ],
          "name": "stdout"
        }
      ]
    },
    {
      "cell_type": "code",
      "metadata": {
        "colab": {
          "base_uri": "https://localhost:8080/"
        },
        "id": "cPJs7wAeoT3Q",
        "outputId": "26bea210-6806-4eaa-a019-869693863de4"
      },
      "source": [
        "# variables in python\n",
        "number1 = 2 #we declare a variable\n",
        "print(number1) # then we print a variable\n",
        "# string, number\n",
        "# we cant start a variable name which is starting with a numbr Ex.:- 1name\n",
        "\n",
        "name = \"Rohit\"\n",
        "print(name)\n",
        "\n",
        "user_name_one = \"Rohit\" #snake case writing\n",
        "UserNameOne = \"Rohit\" # camel case writing\n"
      ],
      "execution_count": null,
      "outputs": [
        {
          "output_type": "stream",
          "text": [
            "2\n",
            "Rohit\n"
          ],
          "name": "stdout"
        }
      ]
    }
  ]
}