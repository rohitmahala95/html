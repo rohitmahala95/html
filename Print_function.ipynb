{
  "nbformat": 4,
  "nbformat_minor": 0,
  "metadata": {
    "colab": {
      "name": "Print_function.ipynb",
      "provenance": [],
      "authorship_tag": "ABX9TyPfFc7MtBQFRzVHep15EpO8",
      "include_colab_link": true
    },
    "kernelspec": {
      "name": "python3",
      "display_name": "Python 3"
    }
  },
  "cells": [
    {
      "cell_type": "markdown",
      "metadata": {
        "id": "view-in-github",
        "colab_type": "text"
      },
      "source": [
        "<a href=\"https://colab.research.google.com/github/rohitmahala95/html/blob/master/Print_function.ipynb\" target=\"_parent\"><img src=\"https://colab.research.google.com/assets/colab-badge.svg\" alt=\"Open In Colab\"/></a>"
      ]
    },
    {
      "cell_type": "code",
      "metadata": {
        "colab": {
          "base_uri": "https://localhost:8080/"
        },
        "id": "xslJB1bIWhnl",
        "outputId": "6a1eb93c-963d-48cd-cc84-46f265932fc4"
      },
      "source": [
        "print(\"Hello Rohit\")\n",
        "print('Hello Rohit')\n",
        "print(\"Hello 'Rohit' Mahala\")\n",
        "print('Hi \"Rohit\"')\n",
        "#print('Hi I'm Rohit').   not allowed\n",
        "#print(\"Hello \\\"Rohit\\\" Hi)  not allowed\n",
        "  #escape sequence\n",
        "\n",
        "\n"
      ],
      "execution_count": null,
      "outputs": [
        {
          "output_type": "stream",
          "text": [
            "Hello Rohit\n",
            "Hello Rohit\n",
            "Hello 'Rohit' Mahala\n",
            "Hi \"Rohit\"\n"
          ],
          "name": "stdout"
        }
      ]
    }
  ]
}