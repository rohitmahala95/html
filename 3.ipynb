{
  "nbformat": 4,
  "nbformat_minor": 0,
  "metadata": {
    "colab": {
      "name": "3.ipynb",
      "provenance": [],
      "collapsed_sections": [],
      "authorship_tag": "ABX9TyPSlhRL6bDXuB/UcpfMTXJJ",
      "include_colab_link": true
    },
    "kernelspec": {
      "name": "python3",
      "display_name": "Python 3"
    }
  },
  "cells": [
    {
      "cell_type": "markdown",
      "metadata": {
        "id": "view-in-github",
        "colab_type": "text"
      },
      "source": [
        "<a href=\"https://colab.research.google.com/github/rohitmahala95/html/blob/master/3.ipynb\" target=\"_parent\"><img src=\"https://colab.research.google.com/assets/colab-badge.svg\" alt=\"Open In Colab\"/></a>"
      ]
    },
    {
      "cell_type": "code",
      "metadata": {
        "colab": {
          "base_uri": "https://localhost:8080/"
        },
        "id": "iWg83iqz9YPd",
        "outputId": "5bd0d80d-6cba-42c8-c101-1d08298ad9f5"
      },
      "source": [
        "# String Concatination\n",
        "\n",
        "first_name = \"Rohit\"\n",
        "last_name = \"Mahala\"\n",
        "print(first_name + \" \" + last_name)\n",
        "\n",
        "# 2nd solution\n",
        "\n",
        "first_name = \"Rohit\"\n",
        "last_name = \"Mahala\"\n",
        "full_name = first_name + \" \" + last_name\n",
        "print(full_name)"
      ],
      "execution_count": 3,
      "outputs": [
        {
          "output_type": "stream",
          "text": [
            "Rohit Mahala\n",
            "Rohit Mahala\n"
          ],
          "name": "stdout"
        }
      ]
    },
    {
      "cell_type": "code",
      "metadata": {
        "colab": {
          "base_uri": "https://localhost:8080/"
        },
        "id": "Q-GTLQDB-PL8",
        "outputId": "621bd097-8c88-4d8f-ac19-2cd7d209f5f1"
      },
      "source": [
        "# We cant add a string and a integer directly\n",
        "# For Ex:- print(\"rohit\" + 3)  will give you a error\n",
        "\n",
        "# Right Solution\n",
        "name = \"Roiht\"\n",
        "print(name + \"3\") # no error\n",
        "\n",
        "print(name * 3) # it will print the name three times"
      ],
      "execution_count": 5,
      "outputs": [
        {
          "output_type": "stream",
          "text": [
            "Roiht3\n",
            "RoihtRoihtRoiht\n"
          ],
          "name": "stdout"
        }
      ]
    },
    {
      "cell_type": "code",
      "metadata": {
        "colab": {
          "base_uri": "https://localhost:8080/"
        },
        "id": "bRUJ5uQX_Dr8",
        "outputId": "15c34ad3-1631-4285-ae01-780c08a6ef5d"
      },
      "source": [
        "# User Input.        # input function will take all inputs in strings\n",
        "name = input(\"Enter your Name: \")\n",
        "age = input(\"Enter your age: \")\n",
        "print(name)\n",
        "print(\"Hello\" + name)\n",
        "print(\"Your age is: \" + age)"
      ],
      "execution_count": 8,
      "outputs": [
        {
          "output_type": "stream",
          "text": [
            "Enter your Name: Rohit\n",
            "Enter your age: 24\n",
            "Rohit\n",
            "HelloRohit\n",
            "Your age is: 24\n"
          ],
          "name": "stdout"
        }
      ]
    },
    {
      "cell_type": "code",
      "metadata": {
        "colab": {
          "base_uri": "https://localhost:8080/"
        },
        "id": "-bl75qhtAF7y",
        "outputId": "ca7aa4d2-a0bb-4dd2-d58a-a4d579dfce81"
      },
      "source": [
        "# int() Function\n",
        "number_one = input(\"Enter number 1: \")\n",
        "number_two = input(\"Enter number 2: \")\n",
        "total = number_one + number_two\n",
        "print(\"Total is: \" + total) #Because in this program when we enter a number then \n",
        "                            #it will behave like a string\n",
        "                            #so  that now we will use here int() function\n",
        "\n",
        "number_one = int(input(\"Enter number 1: \"))\n",
        "number_two = int(input(\"Enter number 2: \"))\n",
        "total = number_one + number_two\n",
        "print(\"Total is: \" + str(total))"
      ],
      "execution_count": 12,
      "outputs": [
        {
          "output_type": "stream",
          "text": [
            "Enter number 1: 33\n",
            "Enter number 2: 33\n",
            "Total is: 3333\n",
            "Enter number 1: 33\n",
            "Enter number 2: 44\n",
            "Total is: 77\n"
          ],
          "name": "stdout"
        }
      ]
    },
    {
      "cell_type": "code",
      "metadata": {
        "colab": {
          "base_uri": "https://localhost:8080/"
        },
        "id": "bcxUsd9GTz4g",
        "outputId": "3591b160-085b-45c9-8b67-dd0db0246e59"
      },
      "source": [
        "number1 = str(4)\n",
        "number2 = int(\"33\")\n",
        "number3 = float(\"44\") \n",
        "print(number2 + number3) #when we add a integer and float number\n",
        "                         #then output will be a float number"
      ],
      "execution_count": 14,
      "outputs": [
        {
          "output_type": "stream",
          "text": [
            "77.0\n"
          ],
          "name": "stdout"
        }
      ]
    },
    {
      "cell_type": "code",
      "metadata": {
        "colab": {
          "base_uri": "https://localhost:8080/"
        },
        "id": "J6Z9b409Uunk",
        "outputId": "83a30947-a234-4585-ff26-04b97f8b33f7"
      },
      "source": [
        "#More About variables\n",
        "#two strings in one line \n",
        "\n",
        "name, age = \"Rohit\", \"24\"\n",
        "print(\"Hello \" + name + \" Your age is \" + age)\n",
        "\n",
        "\n",
        "x=y=z=1\n",
        "print(x+y+z)"
      ],
      "execution_count": 17,
      "outputs": [
        {
          "output_type": "stream",
          "text": [
            "Hello Rohit Your age is 24\n",
            "3\n"
          ],
          "name": "stdout"
        }
      ]
    },
    {
      "cell_type": "code",
      "metadata": {
        "colab": {
          "base_uri": "https://localhost:8080/"
        },
        "id": "HQwISgy_VqgN",
        "outputId": "2eab0dd9-c21f-4df8-b9b2-f15489dee280"
      },
      "source": [
        "#two or more input function in one line \n",
        "name, age = input(\"Enter your name and age: \").split()\n",
        "name, age = input(\"Enter your name and age: \").split(\",\")\n",
        "print(name)\n",
        "print(age)"
      ],
      "execution_count": 19,
      "outputs": [
        {
          "output_type": "stream",
          "text": [
            "Enter your name and age: rohit 24\n",
            "Enter your name and age: rohit, 24\n",
            "rohit\n",
            " 24\n"
          ],
          "name": "stdout"
        }
      ]
    },
    {
      "cell_type": "code",
      "metadata": {
        "colab": {
          "base_uri": "https://localhost:8080/"
        },
        "id": "CK1Oolm5WoNx",
        "outputId": "bbbbac51-255c-4f31-cf41-43fd363a8c6f"
      },
      "source": [
        "\n",
        "name = \"Rohit\"\n",
        "age = 24\n",
        "print(\"Hello \" + name + \" Your age is : \" + str(age)) #ugly syntax\n",
        "\n",
        "#String formatting\n",
        "print(\"Hello {} Your age is : {}\".format(name, age)) #python3 string formatting\n",
        "print(f\"Hello {name} Your age is : {age}\") #pytho3.6 string formatting\n",
        "\n"
      ],
      "execution_count": 23,
      "outputs": [
        {
          "output_type": "stream",
          "text": [
            "Hello Rohit Your age is : 24\n",
            "Hello Rohit Your age is : 24\n",
            "Hello Rohit Your age is : 24\n"
          ],
          "name": "stdout"
        }
      ]
    }
  ]
}